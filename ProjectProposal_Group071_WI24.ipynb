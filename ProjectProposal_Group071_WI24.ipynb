{
 "cells": [
  {
   "cell_type": "markdown",
   "metadata": {},
   "source": [
    "# COGS 108 - Project Proposal"
   ]
  },
  {
   "cell_type": "markdown",
   "metadata": {},
   "source": [
    "# Names\n",
    "\n",
    "- Quinn Cassady\n",
    "- Yihui Zhang \n",
    "- Thida Len\n",
    "- Christopher Pei\n",
    "- Wenzhou Lyu"
   ]
  },
  {
   "cell_type": "markdown",
   "metadata": {},
   "source": [
    "# Research Question"
   ]
  },
  {
   "cell_type": "markdown",
   "metadata": {},
   "source": [
    "\n",
    "Which variable has a stronger correlation to someone’s general stress level: sleeplessness or overworking?\n",
    "\n"
   ]
  },
  {
   "cell_type": "markdown",
   "metadata": {},
   "source": [
    "## Background and Prior Work"
   ]
  },
  {
   "cell_type": "markdown",
   "metadata": {},
   "source": [
    "Stress is a part of every single person’s life. While it's impossible to get rid of stress entirely, learning ways to better navigate and manage its buildup is essential to living a long, happy life. That is why our group is researching what we believe to be some of the most significant contributors to stress, lack of sleep and hours worked, and comparing them to see which is the greater contributor to stress in daily life. Everybody works and everybody sleeps, so they are a universal experience amongst people. We went into our research knowing that lack of sleep and overworking oneself can definitely lead to consequences, but we weren’t sure exactly what differentiated them.\n",
    "\n",
    "Looking first at overworking, it causes direct issues with one's health, leading to eating disorders, sickness, depression,  and most relevantly, stress <a name=\"cite_ref-1\\\"></a>[<sup>1</sup>](#cite_note-1). During stress, the body produces excess levels of hormones, including cortisol. With chronic stress, the connection with the endocrine system may become impaired, leading to a myriad of health issues including metabolic disorders, immune disorders, and depression<a name=\"cite_ref-2\\\"></a>[<sup>2</sup>](#cite_note-2). This stress buildup causes many issues while working, and has caused many people to get hurt because of the negligence brought on by the overwhelming fatigue caused by all this stress. \n",
    "\n",
    "On the other hand, we have sleeplessness. Lack of sleep leads to lots of health problems such as heart disease, high blood pressure, and more, as well as causing increased stress levels <a name=\"cite_ref-3\\\"></a>[<sup>3</sup>](#cite_note-3). Something interesting to note is that sleep forms a bit of a feedback loop with stress, where as you get more stressed you struggle more to fall asleep, which causes you to become even more stressed, and so on <a name=\"cite_ref-4\\\"></a>[<sup>4</sup>](#cite_note-4). Elevated stress levels also have an impairment on the quality of sleep, affecting the duration of the various sleep stages which affects the structural organization of one’s sleep schedule and can lead to feeling tired even after a full night of sleep <a name=\"cite_ref-5\\\"></a>[<sup>5</sup>](#cite_note-5).\n",
    "\n",
    "A similar project done in previous quarters is about who loses the most sleep. They compared different age ranges, incomes, ethnicities, and more to see who suffered the most from sleeplessness. We believe that while we both discuss sleep, our project looks at it from a different angle and is unique from theirs. In fact, their sources might prove to be valuable for our project as well, since it holds a lot of data about sleep and we can attempt to find correlations between work and sleep, which might prove useful in finding a relationship between not only sleep/work and stress, but also between work and sleep<a name=\"cite_ref-6\\\"></a>[<sup>6</sup>](#cite_note-6). Another similar project from Spring 2019 explores the correlation between size of a company and the number of employees who experience mental health disorders. This group found that there is a strong correlation between the size of a company, and both the number of employees who experience mental health disorders, as well as the belief of how mental health is addressed within their workplace. Through their data, they found that the larger a company is, the more likely its employees are to experience mental health problems. This is similar to our research question because it is observing the relationship between work and its mental effects. Though we are more specifically observing workplace hours and stress, their findings and resources can be useful in exploring how work and mental health are generally tied<a name=\"cite_ref-7\\\"></a>[<sup>7</sup>](#cite_note-7).\n",
    "\n",
    "\n",
    "1. <a name=\"cite_note-1\\\"></a> [^](#cite_ref-1) Long work hours, extended or irregular shifts, and worker fatigue - overview. Occupational Safety and Health Administration. (n.d.). https://www.osha.gov/worker-fatigue\n",
    "2. <a name=\"cite_note-2\\\"></a> [^](#cite_ref-2) American Psychological Association. (n.d.). Stress effects on the body. American Psychological Association. https://www.apa.org/topics/stress/body\n",
    "3. <a name=\"cite_note-3\\\"></a> [^](#cite_ref-3) Cleveland Clinic. (2023, November 27). Here’s what happens when you don’t get enough sleep (and how much you really need a night). https://health.clevelandclinic.org/happens-body-dont-get-enough-sleep\n",
    "4. <a name=\"cite_note-4\\\"></a> [^](#cite_ref-4) Benham, G. (2010). Sleep: An important factor in stress‐health models. Stress and Health, 26(3), 204–214. https://doi.org/10.1002/smi.1304\n",
    "5. <a name=\"cite_note-5\\\"></a> [^](#cite_ref-5) Stress and insomnia. Sleep Foundation. (2023, November 16). https://www.sleepfoundation.org/insomnia/stress-and-insomnia\n",
    "6. <a name=\"cite_note-6\\\"></a> [^](#cite_ref-6) Who Loses the Most Sleep? A Demographic Analysis of Poor Sleepers. GitHub. https://github.com/COGS108/FinalProjects-Wi21/blob/main/FinalProject_group007.ipynb\n",
    "7. <a name=\"cite_note-7\\\"></a> [^](#cite_ref-7) Final Project. GitHub. https://github.com/COGS108/FinalProjects-Sp19/blob/master/FinalProject_group038.ipynb\n"
   ]
  },
  {
   "cell_type": "markdown",
   "metadata": {},
   "source": [
    "# Hypothesis\n"
   ]
  },
  {
   "cell_type": "markdown",
   "metadata": {},
   "source": [
    "\n",
    "\n",
    "\n",
    "We believe that either sleeplessness or overworking contributes more than the other to stress. This is because the data and background information shows that while people who lack sleep and are overworked tend to be more stressed, one is likely to be more significantly affecting individuals.\n",
    "\n",
    "Null Hypothesis (H0): There is no significant difference in the correlation between sleeplessness and general stress level compared to the correlation between overworking and general stress level.\n",
    "\n",
    "Alternative Hypothesis (H1): Either sleeplessness or overworking has a stronger correlation with general stress level than the other.\n"
   ]
  },
  {
   "cell_type": "markdown",
   "metadata": {},
   "source": [
    "# Data"
   ]
  },
  {
   "cell_type": "markdown",
   "metadata": {},
   "source": [
    "\n",
    "**Dataset Name**: Work Schedules and Sleep Patterns of Railroad Employees\n",
    "\n",
    "**Dataset Link**: [https://catalog.data.gov/dataset/work-schedules-and-sleep-patterns-of-railroad-employees](https://catalog.data.gov/dataset/work-schedules-and-sleep-patterns-of-railroad-employees)\n",
    "\n",
    "The dataset was from a study of the work schedules and sleep patterns of railroad employees sponsored by the Federal Railroad Administration (FRA). The dataset we have found is a survey conducted on railroad employees. Since it was from a certain group of people, then the research question is limited to this certain group of people not to the general population. And this dataset is unbalanced, as most railroad employees are males.  In order to answer our research question, we need measurements of sleeplessness and overworking, and the level of stress. It has a sufficient amount of observations (around 500). Variables are numerical data, which are straightforward to compute metrics. Format of the data is structured, which is easy for  pre-processing. The ideal dataset would be a public one-time survey conducted on the general public and balanced on gender. \n",
    "\n",
    "**Other useful datasets**:\n",
    "[Boston College COVID-19 Sleep and Well-Being Dataset](https://osf.io/gpxwa/)\n",
    "\n",
    "This dataset was gathered through daily surveys of students at Boston College, incorporating several additional tests throughout the data collection phase. The method of data acquisition is motivating for us, as it opens up the possibility of creating surveys and conducting long-term observations of participants.\n",
    "\n"
   ]
  },
  {
   "cell_type": "markdown",
   "metadata": {},
   "source": [
    "# Ethics & Privacy"
   ]
  },
  {
   "cell_type": "markdown",
   "metadata": {},
   "source": [
    "\n",
    "\n",
    "\n",
    "We think there might be a bias in our data because most of the time people are not willing to share their weakness, so the data that we collect might be very positive from the people with less stress. Many of the survey questions on levels of stress are self-reported, which can be subject to bias and may not reflect reality. The data also will have a regional bias because we are getting data from one area’s railroad work. The different areas might produce a different data set. There should not be any issues with privacy, because the questions are answered anonymously and the ages are listed as ranges not specifics. Perhaps there can be outliers who are able to be identified within the datasets due to some stand out values, but we will likely not be using charts that present them as such unfairly.\n",
    "\n",
    "The dataset we are using focuses on railroad employees, which is a very small subset of the working class and is not representative of the larger, more general population. The results may be biased due to the specific labor that is unique to railroad work. Additionally, there may have been certain biases amongst the groups of people who work these jobs, such as more of certain age ranges and less of others, which can lead to a biased point of view towards/against this group.\n",
    "\n",
    "Comparing against other datasets will definitely help us with focusing too much on a certain job. Also, we can check to see how many people make up differing groups and correct for that when it comes up. Making sure to take averages across differing groups will help to mitigate any biases created by an overabundance of certain age ranges, certain years worked, etc.\n"
   ]
  },
  {
   "cell_type": "markdown",
   "metadata": {},
   "source": [
    "# Team Expectations "
   ]
  },
  {
   "cell_type": "markdown",
   "metadata": {},
   "source": [
    "\n",
    "* Attend Team Meetings, and give a timely notice to other team members if an unexpected conflict arises\n",
    "  * Team members should provide missing members with a summary of topics discussed during team meetings and their assigned obligations\n",
    "* Work should be divided in a reasonable manner amongst all members. Complete all agreed upon work by the agreed upon deadline\n",
    "* Team members should communicate if they need help or cannot finish their work by the set deadline.\n",
    "* Team members should respond to group messages ASAP, and at least within a 24-hour period.\n",
    "* In the event of conflict, team members should talk to one another and try to resolve things promptly. If possible, an uninvolved team member should be there to mediate.\n"
   ]
  },
  {
   "cell_type": "markdown",
   "metadata": {},
   "source": [
    "# Project Timeline Proposal"
   ]
  },
  {
   "cell_type": "markdown",
   "metadata": {},
   "source": [
    "\n",
    "\n",
    "\n",
    "\n",
    "| Meeting Date  | Meeting Time| Completed Before Meeting  | Discuss at Meeting |\n",
    "|---|---|---|---|\n",
    "| 2/2  |  1 PM | Read & Think about COGS 108 expectations; brainstorm topics/questions  | Determine best form of communication; Discuss and decide on final project topic; discuss hypothesis; begin background research| \n",
    "| 2/7  |  4 PM |  Do background research on topic. Edit, finalize, and submit proposal; Search for datasets | Discuss ideal dataset(s) and ethics; draft project proposal. Discuss Wrangling and possible analytical approaches; Assign group members to lead each specific part| \n",
    "| 2/14  | 4 AM  |  | Discuss A3 |\n",
    "| 2/21  | 4 PM  | Import & Wrangle Data; EDA| Review/Edit wrangling/EDA; Discuss Analysis Plan. Discuss plans to complete Project Checkpoint #1 (Data) |\n",
    "| 2/28  | 4 PM  | Finalize wrangling/EDA; Begin Analysis | Discuss/edit Analysis; Discuss A4 |\n",
    "| 3/6  | 4 PM  | Complete analysis; Draft results/conclusion/discussion (Wasp)| Discuss/edit full project; Discuss Plans to complete Project Checkpoint #2 (EDA) |\n",
    "| 3/20  | Before 11:59 PM  | NA | Turn in Final Project & Group Project Surveys |"
   ]
  }
 ],
 "metadata": {
  "kernelspec": {
   "display_name": "Python 3 (ipykernel)",
   "language": "python",
   "name": "python3"
  },
  "language_info": {
   "codemirror_mode": {
    "name": "ipython",
    "version": 3
   },
   "file_extension": ".py",
   "mimetype": "text/x-python",
   "name": "python",
   "nbconvert_exporter": "python",
   "pygments_lexer": "ipython3",
   "version": "3.9.16"
  }
 },
 "nbformat": 4,
 "nbformat_minor": 2
}
